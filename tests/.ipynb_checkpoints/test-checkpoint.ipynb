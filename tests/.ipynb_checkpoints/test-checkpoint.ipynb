{
 "cells": [
  {
   "cell_type": "code",
   "execution_count": 13,
   "metadata": {},
   "outputs": [],
   "source": [
    "import os \n",
    "import pandas as pd\n",
    "import torch\n",
    "from torch.utils.data import Dataset\n",
    "from skimage import io\n",
    "import torchvision.transforms as transforms"
   ]
  },
  {
   "cell_type": "code",
   "execution_count": 14,
   "metadata": {},
   "outputs": [],
   "source": [
    "class GalaxyZooDataset(Dataset):\n",
    "    def __init__(self, csv_file, root_dir, transform=None):\n",
    "        self.annotations = pd.read_csv(csv_file)\n",
    "        self.root_dir = root_dir\n",
    "        self.transform = transform\n",
    "        \n",
    "    def __len__(self):\n",
    "        return len(self.annotations)*4\n",
    "    \n",
    "    def __getitem__(self, index):\n",
    "        \n",
    "        real_index, rotate_type = divmod(index, 4)\n",
    "        \n",
    "        img_path = os.path.join(self.root_dir, str(self.annotations[\"GalaxyID\"][real_index]) + \".jpg\")\n",
    "        image = io.imread(img_path)\n",
    "        \n",
    "        \n",
    "        x_crop, y_crop = 96, 96\n",
    "        x_point, y_point = (image.shape[0] - x_crop) // 2, (image.shape[1] - y_crop) // 2\n",
    "        \n",
    "        image = image[x_point:x_point + x_crop, y_point:y_point + y_crop]\n",
    "        x_image = torch.as_tensor(image, dtype=torch.float32)\n",
    "        \n",
    "        x_image = torch.rot90(x_image, rotate_type)\n",
    "        x_image = x_image.permute(2, 0, 1) \n",
    "        x_image = x_image.unsqueeze(0)\n",
    "    \n",
    "        \n",
    "        \n",
    "        y_lable = torch.tensor(self.annotations.iloc[real_index, 1:], dtype=torch.float32)\n",
    "        \n",
    "        \n",
    "        return (x_image, y_lable)\n"
   ]
  },
  {
   "cell_type": "code",
   "execution_count": 15,
   "metadata": {},
   "outputs": [
    {
     "data": {
      "text/plain": [
       "(61578, 38)"
      ]
     },
     "execution_count": 15,
     "metadata": {},
     "output_type": "execute_result"
    }
   ],
   "source": [
    "data_res = pd.read_csv(\"../data/training_solutions_rev1/training_solutions_rev1.csv\")\n",
    "data_res.shape"
   ]
  },
  {
   "cell_type": "code",
   "execution_count": null,
   "metadata": {},
   "outputs": [],
   "source": []
  },
  {
   "cell_type": "code",
   "execution_count": 16,
   "metadata": {},
   "outputs": [
    {
     "data": {
      "text/plain": [
       "'../data/images_training_rev1/100090.jpg'"
      ]
     },
     "execution_count": 16,
     "metadata": {},
     "output_type": "execute_result"
    }
   ],
   "source": [
    "os.path.join(\"../data/images_training_rev1\", \"100090\" + \".jpg\")"
   ]
  },
  {
   "cell_type": "code",
   "execution_count": 17,
   "metadata": {},
   "outputs": [
    {
     "name": "stdout",
     "output_type": "stream",
     "text": [
      "tensor([0.3831, 0.6169, 0.0000, 0.0000, 0.6169, 0.0385, 0.5784, 0.4184, 0.1985,\n",
      "        0.0000, 0.1048, 0.5121, 0.0000, 0.0545, 0.9455, 0.2015, 0.1817, 0.0000,\n",
      "        0.0000, 0.0272, 0.0000, 0.0272, 0.0000, 0.0000, 0.0000, 0.0000, 0.0000,\n",
      "        0.0000, 0.2800, 0.1384, 0.0000, 0.0000, 0.0929, 0.0000, 0.0000, 0.0000,\n",
      "        0.3255])\n"
     ]
    }
   ],
   "source": [
    "data_csv = \"../data/training_solutions_rev1/training_solutions_rev1.csv\"\n",
    "root_dir = \"../data/images_training_rev1\"\n",
    "my_dataset = GalaxyZooDataset(csv_file=data_csv, root_dir=root_dir, transform=transforms.ToTensor())\n",
    "print(my_dataset[0][1])"
   ]
  },
  {
   "cell_type": "code",
   "execution_count": 18,
   "metadata": {},
   "outputs": [],
   "source": [
    "import torch\n",
    "import torch.nn as nn\n",
    "\n"
   ]
  },
  {
   "cell_type": "code",
   "execution_count": 19,
   "metadata": {},
   "outputs": [],
   "source": [
    "class MyCNN(nn.Module):\n",
    "#     3x96 -5> 16x92 -> 46 -3> 32x44 -> 22 -3> 64x20 -> 10 -3> 128x8 -> 4\n",
    "    def __init__(self):\n",
    "        super(MyCNN, self).__init__()\n",
    "        \n",
    "        self.max_pool_2x2 = nn.MaxPool2d(kernel_size=2, stride=2)\n",
    "        \n",
    "        self.conv_1 = conv = nn.Sequential(\n",
    "            nn.Conv2d(3, 16, kernel_size=5),\n",
    "            nn.ReLU(inplace=True)\n",
    "        )\n",
    "        \n",
    "        self.conv_2 = conv = nn.Sequential(\n",
    "            nn.Conv2d(16, 32, kernel_size=3),\n",
    "            nn.ReLU(inplace=True)\n",
    "        )\n",
    "        \n",
    "        self.conv_3 = conv = nn.Sequential(\n",
    "            nn.Conv2d(32, 64, kernel_size=3),\n",
    "            nn.ReLU(inplace=True)\n",
    "        )\n",
    "        \n",
    "        self.conv_4 = conv = nn.Sequential(\n",
    "            nn.Conv2d(64, 128, kernel_size=3),\n",
    "            nn.ReLU(inplace=True)\n",
    "        )\n",
    "        \n",
    "        self.hidden= nn.Sequential(\n",
    "            nn.Linear(128*4*4, 128), \n",
    "            nn.ReLU(inplace=True)\n",
    "        )\n",
    "        \n",
    "        self.drop = nn.Dropout(0.2)\n",
    "        \n",
    "        self.out = nn.Sequential(\n",
    "            nn.Linear(128, 37), \n",
    "            nn.ReLU(inplace=True)\n",
    "        )\n",
    "        \n",
    "        \n",
    "    def forward(self, image):\n",
    "        \n",
    "        x1 = self.conv_1(image.float())\n",
    "        x2 = self.max_pool_2x2(x1)\n",
    "        x3 = self.conv_2(x2)\n",
    "        x4 = self.max_pool_2x2(x3)\n",
    "        x5 = self.conv_3(x4)\n",
    "        x6 = self.max_pool_2x2(x5)\n",
    "        x7 = self.conv_4(x6)\n",
    "        x8 = self.max_pool_2x2(x7)\n",
    "        x9 = x8.view(x8.shape[0], -1)\n",
    "        x10 = self.hidden(x9)\n",
    "        x11 = self.drop(x10)\n",
    "        x = self.out(x11) \n",
    "        return x\n",
    "        \n",
    "        "
   ]
  },
  {
   "cell_type": "code",
   "execution_count": 20,
   "metadata": {},
   "outputs": [
    {
     "name": "stdout",
     "output_type": "stream",
     "text": [
      "tensor([[0.0000, 0.0000, 0.0988, 0.0256, 0.0000, 0.0000, 0.0889, 0.0817, 0.0000,\n",
      "         0.0000, 0.0000, 0.0000, 0.0525, 0.0000, 0.0104, 0.0000, 0.0045, 0.0000,\n",
      "         0.0411, 0.0045, 0.0000, 0.0826, 0.0206, 0.0071, 0.0771, 0.0889, 0.0000,\n",
      "         0.0614, 0.0364, 0.0000, 0.0308, 0.0337, 0.0865, 0.0058, 0.0000, 0.0000,\n",
      "         0.0154]], grad_fn=<ReluBackward1>)\n"
     ]
    }
   ],
   "source": [
    "if __name__ == \"__main__\":\n",
    "    image = torch.rand((1, 3, 96, 96))\n",
    "    model = MyCNN()\n",
    "    print(model(image))"
   ]
  },
  {
   "cell_type": "code",
   "execution_count": 21,
   "metadata": {},
   "outputs": [],
   "source": [
    "import torch.optim as optim\n",
    "\n",
    "criterion = nn.MSELoss()\n",
    "optimizer = optim.SGD(model.parameters(), lr=0.001, momentum=0.9)"
   ]
  },
  {
   "cell_type": "code",
   "execution_count": null,
   "metadata": {},
   "outputs": [
    {
     "name": "stdout",
     "output_type": "stream",
     "text": [
      "[1,   200] loss: 0.040\n",
      "[1,   400] loss: 0.040\n",
      "[1,   600] loss: 0.034\n",
      "[1,   800] loss: 0.037\n",
      "[1,  1000] loss: 0.031\n",
      "[1,  1200] loss: 0.034\n",
      "[1,  1400] loss: 0.034\n",
      "[1,  1600] loss: 0.031\n",
      "[1,  1800] loss: 0.031\n",
      "[1,  2000] loss: 0.031\n",
      "[1,  2200] loss: 0.031\n",
      "[1,  2400] loss: 0.030\n",
      "[1,  2600] loss: 0.031\n",
      "[1,  2800] loss: 0.028\n"
     ]
    }
   ],
   "source": [
    "losses = []\n",
    "\n",
    "for epoch in range(3):  # loop over the dataset multiple times\n",
    "\n",
    "    running_loss = 0.0\n",
    "    for i in range(10000):\n",
    "        # get the inputs; data is a list of [inputs, labels]\n",
    "        inputs, labels = my_dataset[i]\n",
    "\n",
    "        # zero the parameter gradients\n",
    "        optimizer.zero_grad()\n",
    "\n",
    "        # forward + backward + optimize\n",
    "        outputs = model(inputs)\n",
    "        loss = criterion(outputs, labels)\n",
    "        loss.backward()\n",
    "        optimizer.step()\n",
    "\n",
    "        # print statistics\n",
    "        running_loss += loss.item()\n",
    "        if i % 200 == 199:    # print every 200 mini-batches\n",
    "            print('[%d, %5d] loss: %.3f' %\n",
    "                  (epoch + 1, i + 1, running_loss / 200))\n",
    "            losses.append(running_loss)\n",
    "            running_loss = 0.0\n",
    "            \n",
    "            \n",
    "print('Finished Training')\n",
    "\n"
   ]
  },
  {
   "cell_type": "code",
   "execution_count": null,
   "metadata": {},
   "outputs": [],
   "source": [
    "import matplotlib.pyplot as plt\n",
    "plt.plot(losses)\n",
    "plt.ylabel('losses')\n",
    "plt.show()"
   ]
  },
  {
   "cell_type": "code",
   "execution_count": null,
   "metadata": {},
   "outputs": [],
   "source": []
  },
  {
   "cell_type": "code",
   "execution_count": null,
   "metadata": {},
   "outputs": [],
   "source": []
  },
  {
   "cell_type": "code",
   "execution_count": null,
   "metadata": {},
   "outputs": [],
   "source": []
  }
 ],
 "metadata": {
  "kernelspec": {
   "display_name": "Python 3",
   "language": "python",
   "name": "python3"
  },
  "language_info": {
   "codemirror_mode": {
    "name": "ipython",
    "version": 3
   },
   "file_extension": ".py",
   "mimetype": "text/x-python",
   "name": "python",
   "nbconvert_exporter": "python",
   "pygments_lexer": "ipython3",
   "version": "3.6.9"
  }
 },
 "nbformat": 4,
 "nbformat_minor": 4
}
