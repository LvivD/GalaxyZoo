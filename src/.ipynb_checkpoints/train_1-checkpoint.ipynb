{
 "cells": [
  {
   "cell_type": "code",
   "execution_count": 1,
   "metadata": {},
   "outputs": [],
   "source": [
    "from dataloader import GalaxyZooDataset\n",
    "from mynn import MyCNN\n",
    "\n",
    "import torch.nn as nn\n",
    "import torch\n",
    "\n",
    "import matplotlib.pyplot as plt"
   ]
  },
  {
   "cell_type": "code",
   "execution_count": 2,
   "metadata": {},
   "outputs": [],
   "source": [
    "data_csv = \"../data/training_solutions_rev1/training_solutions_rev1.csv\"\n",
    "root_dir = \"../data/images_training_rev1\"\n",
    "my_dataset_train = GalaxyZooDataset(csv_file=data_csv, root_dir=root_dir, first_elem=0, last_elem=0.6)\n",
    "my_dataset_validation = GalaxyZooDataset(csv_file=data_csv, root_dir=root_dir, first_elem=0.6, last_elem=0.8)\n",
    "train_to_validation_ratio = int(len(my_dataset_train)/len(my_dataset_validation))\n",
    "my_dataset_test = GalaxyZooDataset(csv_file=data_csv, root_dir=root_dir, first_elem=0.8, last_elem=1)"
   ]
  },
  {
   "cell_type": "code",
   "execution_count": 3,
   "metadata": {},
   "outputs": [],
   "source": [
    "model_path = None"
   ]
  },
  {
   "cell_type": "code",
   "execution_count": 4,
   "metadata": {},
   "outputs": [],
   "source": [
    "# save_model = True\n",
    "save_model = False\n",
    "if save_model:\n",
    "    save_model_name = '../models/model_test3.pt'"
   ]
  },
  {
   "cell_type": "code",
   "execution_count": 5,
   "metadata": {},
   "outputs": [],
   "source": [
    "if model_path:\n",
    "    model = torch.load(model_path)\n",
    "else:\n",
    "    model = MyCNN()"
   ]
  },
  {
   "cell_type": "code",
   "execution_count": 6,
   "metadata": {},
   "outputs": [],
   "source": [
    "import torch.optim as optim\n",
    "\n",
    "criterion = nn.MSELoss()\n",
    "optimizer = optim.SGD(model.parameters(), lr=0.001, momentum=0.9)"
   ]
  },
  {
   "cell_type": "code",
   "execution_count": 7,
   "metadata": {},
   "outputs": [
    {
     "data": {
      "text/plain": [
       "'/home/sotnyk/sotnyk/UCU/III_year/ML/project/src'"
      ]
     },
     "execution_count": 7,
     "metadata": {},
     "output_type": "execute_result"
    }
   ],
   "source": [
    "import os\n",
    "import time\n",
    "\n",
    "os.getcwd()"
   ]
  },
  {
   "cell_type": "code",
   "execution_count": 8,
   "metadata": {},
   "outputs": [
    {
     "name": "stderr",
     "output_type": "stream",
     "text": [
      "/home/sotnyk/sotnyk/UCU/III_year/ML/project/ml_proj/lib/python3.6/site-packages/torch/nn/modules/loss.py:446: UserWarning: Using a target size (torch.Size([37])) that is different to the input size (torch.Size([1, 37])). This will likely lead to incorrect results due to broadcasting. Please ensure they have the same size.\n",
      "  return F.mse_loss(input, target, reduction=self.reduction)\n"
     ]
    },
    {
     "name": "stdout",
     "output_type": "stream",
     "text": [
      "[1,   500] loss train: 0.038\n",
      "[1,   500] loss validation: 0.038\n",
      "i:  499 time:  6.585636615753174 len losses_train: 0 len losses_validation: 0\n",
      "[1,  1000] loss train: 0.035\n",
      "[1,  1000] loss validation: 0.037\n",
      "i:  999 time:  12.936737298965454 len losses_train: 1 len losses_validation: 1\n",
      "[1,  1500] loss train: 0.034\n",
      "[1,  1500] loss validation: 0.028\n",
      "i:  1499 time:  19.683162927627563 len losses_train: 2 len losses_validation: 2\n",
      "[1,  2000] loss train: 0.031\n",
      "[1,  2000] loss validation: 0.032\n",
      "i:  1999 time:  25.93182063102722 len losses_train: 3 len losses_validation: 3\n",
      "[1,  2500] loss train: 0.031\n",
      "[1,  2500] loss validation: 0.029\n",
      "i:  2499 time:  32.24384140968323 len losses_train: 4 len losses_validation: 4\n",
      "[1,  3000] loss train: 0.032\n",
      "[1,  3000] loss validation: 0.028\n",
      "i:  2999 time:  38.83321189880371 len losses_train: 5 len losses_validation: 5\n",
      "3155\n",
      "41.063193559646606\n"
     ]
    },
    {
     "data": {
      "image/png": "[encoded data removed]",
      "text/plain": [
       "<Figure size 432x288 with 1 Axes>"
      ]
     },
     "metadata": {
      "needs_background": "light"
     },
     "output_type": "display_data"
    }
   ],
   "source": [
    "losses_train = []\n",
    "losses_validation = []\n",
    "\n",
    "\n",
    "# data_to_plot = {}\n",
    "\n",
    "t = time.time()\n",
    "print_interval = 500\n",
    "try:\n",
    "    for epoch in range(1):  # loop over the dataset multiple times\n",
    "\n",
    "        running_loss_train = 0.0\n",
    "        running_loss_validation = 0.0\n",
    "#         for i in range(len(my_dataset_train)):\n",
    "        for i in range(7000):\n",
    "            # get the inputs; data is a list of [inputs, labels]\n",
    "            inputs, labels = my_dataset_train[i]\n",
    "\n",
    "            # zero the parameter gradients\n",
    "            optimizer.zero_grad()\n",
    "\n",
    "            # forward + backward + optimize\n",
    "            outputs = model(inputs)\n",
    "            loss = criterion(outputs, labels)\n",
    "            loss.backward()\n",
    "            optimizer.step()\n",
    "            print(type(loss))\n",
    "\n",
    "            # print statistics\n",
    "            running_loss_train += loss.item()\n",
    "#             !!!!!!!!!!!!!!!somewhere here is memory leak!!!!!!!!!!!!!!\n",
    "#             if i % train_to_validation_ratio == 0:\n",
    "#                 inputs, labels = my_dataset_validation[int(i/train_to_validation_ratio)]\n",
    "#                 running_loss_validation += criterion(model(inputs), labels)*train_to_validation_ratio\n",
    "            if i % train_to_validation_ratio == 0:\n",
    "                inputs, labels = my_dataset_validation[int(i/train_to_validation_ratio)]\n",
    "                running_loss_validation += criterion(model(inputs), labels).item()*train_to_validation_ratio\n",
    "            \n",
    "                \n",
    "            if i % print_interval == print_interval-1:    # print every print_interval mini-batches\n",
    "                print('[%d, %5d] loss train: %.3f' %\n",
    "                      (epoch + 1, i + 1, running_loss_train / print_interval))\n",
    "                print('[%d, %5d] loss validation: %.3f' %\n",
    "                      (epoch + 1, i + 1, running_loss_validation / print_interval))\n",
    "                \n",
    "                print(\"i: \", i, \"time: \", time.time() - t, \"len losses_train:\", len(losses_train), \"len losses_validation:\", len(losses_validation))\n",
    "                losses_train.append(running_loss_train / print_interval)\n",
    "                losses_validation.append(running_loss_validation / print_interval)\n",
    "                running_loss_validation = 0.0\n",
    "                running_loss_train = 0.0\n",
    "    print('Finished Training')\n",
    "\n",
    "except KeyboardInterrupt:\n",
    "    print(i)\n",
    "    \n",
    "finally:\n",
    "    print(time.time()-t)\n",
    "    plt.plot(losses_train, label='')\n",
    "    plt.show();\n",
    "    if save_model:\n",
    "        torch.save(model, save_model_name)\n",
    "        \n",
    "   "
   ]
  }
 ],
 "metadata": {
  "kernelspec": {
   "display_name": "ml_proj",
   "language": "python",
   "name": "ml_proj"
  },
  "language_info": {
   "codemirror_mode": {
    "name": "ipython",
    "version": 3
   },
   "file_extension": ".py",
   "mimetype": "text/x-python",
   "name": "python",
   "nbconvert_exporter": "python",
   "pygments_lexer": "ipython3",
   "version": "3.6.9"
  }
 },
 "nbformat": 4,
 "nbformat_minor": 4
}
